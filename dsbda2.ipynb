{
 "cells": [
  {
   "cell_type": "code",
   "execution_count": null,
   "id": "8191b3b9-ae3c-4940-8777-0a41ba309e48",
   "metadata": {},
   "outputs": [],
   "source": [
    "import numpy as np\n",
    "import pandas as pd\n",
    "import matplotlib.pyplot as plt\n",
    "import seaborn as sns"
   ]
  },
  {
   "cell_type": "code",
   "execution_count": null,
   "id": "ebf13cdb-f5aa-4c10-a4c4-57b222804636",
   "metadata": {},
   "outputs": [],
   "source": [
    "sp=pd.read_csv(\"AcademicPerformanceNEW.csv\")"
   ]
  },
  {
   "cell_type": "code",
   "execution_count": null,
   "id": "8776d53a-f688-46ab-a0a0-2d987179f629",
   "metadata": {},
   "outputs": [],
   "source": [
    "sp.isnull()"
   ]
  },
  {
   "cell_type": "code",
   "execution_count": null,
   "id": "b92a98b5-0471-460d-b3e3-d1cc984a7157",
   "metadata": {},
   "outputs": [],
   "source": [
    "series=pd.isnull(sp[\"math score\"])\n",
    "sp[series]"
   ]
  },
  {
   "cell_type": "code",
   "execution_count": null,
   "id": "dc43e22d-60af-4195-9a27-6df8a20021ca",
   "metadata": {},
   "outputs": [],
   "source": [
    "sp.notnull()"
   ]
  },
  {
   "cell_type": "code",
   "execution_count": null,
   "id": "cff8b1ba-4d1a-4328-83e0-2ffb275c8f6e",
   "metadata": {},
   "outputs": [],
   "source": [
    "series1=pd.notnull(sp[\"math score\"])\n",
    "sp[series1]"
   ]
  },
  {
   "cell_type": "code",
   "execution_count": null,
   "id": "7ee545dd-a7f3-4420-993a-87f6cd8df524",
   "metadata": {},
   "outputs": [],
   "source": [
    "from sklearn.preprocessing import LabelEncoder\n",
    "le=LabelEncoder()"
   ]
  },
  {
   "cell_type": "code",
   "execution_count": null,
   "id": "d7407778-8f78-4d97-b96b-fd4407bcbd34",
   "metadata": {},
   "outputs": [],
   "source": [
    "sp.dropna()"
   ]
  },
  {
   "cell_type": "code",
   "execution_count": null,
   "id": "9a3256a1-2ddf-40cd-bb6b-6049c7eb621a",
   "metadata": {},
   "outputs": [],
   "source": [
    "sp.dropna(how='all')"
   ]
  },
  {
   "cell_type": "code",
   "execution_count": null,
   "id": "98fce310-4e8e-4e8f-93d8-341c03bb9119",
   "metadata": {},
   "outputs": [],
   "source": [
    "sp.dropna(axis=1)"
   ]
  },
  {
   "cell_type": "code",
   "execution_count": null,
   "id": "0ba2056c-ed5f-4b52-a294-4729fa2b301c",
   "metadata": {},
   "outputs": [],
   "source": [
    "new_data=sp.dropna(axis=0,how='any')\n",
    "new_data"
   ]
  },
  {
   "cell_type": "code",
   "execution_count": null,
   "id": "14de73c9-f312-44e1-be9c-acf6787fd740",
   "metadata": {},
   "outputs": [],
   "source": [
    "print(np.where(sp[\"math score\"]>90))"
   ]
  },
  {
   "cell_type": "code",
   "execution_count": null,
   "id": "62182815-0117-4302-9759-715d006a8bca",
   "metadata": {},
   "outputs": [],
   "source": [
    "print(np.where(sp[\"reading score\"]<25))\n",
    "print(np.where(sp[\"writing score\"]<30))"
   ]
  },
  {
   "cell_type": "code",
   "execution_count": null,
   "id": "1f6b4982-6c75-4a6e-b6f0-3ca46f105e90",
   "metadata": {},
   "outputs": [],
   "source": [
    "col=['math score','reading score','placement score']\n",
    "sp.boxplot(col)"
   ]
  },
  {
   "cell_type": "code",
   "execution_count": null,
   "id": "62239e76-9bf0-4dec-8668-bb1a842205b4",
   "metadata": {},
   "outputs": [],
   "source": [
    "fig, axes = plt.subplots(figsize=(18,10))\n",
    "axes.scatter(sp['placement score'], sp['placement count'])\n",
    "plt.show()"
   ]
  },
  {
   "cell_type": "code",
   "execution_count": null,
   "id": "4b33b53c-5819-4202-9488-2f115f9de77e",
   "metadata": {},
   "outputs": [],
   "source": [
    "print(np.where((sp['placement score']<50)&(sp['placement count']>1)))\n",
    "print(np.where((sp['placement score']>85)&(sp['placement count']<3)))"
   ]
  },
  {
   "cell_type": "code",
   "execution_count": null,
   "id": "d495e6f6-a804-4b76-bbd0-143ad7eb0cde",
   "metadata": {},
   "outputs": [],
   "source": [
    "sorted_rscore=sorted(sp['reading score'])"
   ]
  },
  {
   "cell_type": "code",
   "execution_count": null,
   "id": "ff5bf635-68c4-4395-9d4e-3ee3a161a240",
   "metadata": {},
   "outputs": [],
   "source": [
    "sorted_rscore"
   ]
  },
  {
   "cell_type": "code",
   "execution_count": null,
   "id": "8eea3889-4229-4e49-9c6c-4e0e768eb011",
   "metadata": {},
   "outputs": [],
   "source": [
    "q1=np.percentile(sorted_rscore,25)\n",
    "q3=np.percentile(sorted_rscore,75)\n",
    "print(q1,q3)"
   ]
  },
  {
   "cell_type": "code",
   "execution_count": null,
   "id": "ca69f6f2-7c42-4557-a3d6-ad0c02755481",
   "metadata": {},
   "outputs": [],
   "source": [
    "IQR=q3-q1"
   ]
  },
  {
   "cell_type": "code",
   "execution_count": null,
   "id": "ccf1eb75-7fdd-45ef-81f7-da38733c48fd",
   "metadata": {},
   "outputs": [],
   "source": [
    "lwr_bound=q1-(1.5*IQR)\n",
    "upr_bound=q3+(1.5*IQR)\n",
    "print(lwr_bound,upr_bound)"
   ]
  },
  {
   "cell_type": "code",
   "execution_count": null,
   "id": "a64604b8-fa50-4a72-b508-fcd5d97b1ecf",
   "metadata": {},
   "outputs": [],
   "source": []
  }
 ],
 "metadata": {
  "kernelspec": {
   "display_name": "Python 3 (ipykernel)",
   "language": "python",
   "name": "python3"
  },
  "language_info": {
   "codemirror_mode": {
    "name": "ipython",
    "version": 3
   },
   "file_extension": ".py",
   "mimetype": "text/x-python",
   "name": "python",
   "nbconvert_exporter": "python",
   "pygments_lexer": "ipython3",
   "version": "3.13.1"
  }
 },
 "nbformat": 4,
 "nbformat_minor": 5
}
