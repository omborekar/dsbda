{
 "cells": [
  {
   "cell_type": "code",
   "execution_count": null,
   "id": "32088ca9-c831-4558-bded-814cd9796c45",
   "metadata": {},
   "outputs": [],
   "source": [
    "import pandas as pd\n",
    "weather=pd.read_csv(\"weatherAUS.csv\")"
   ]
  },
  {
   "cell_type": "code",
   "execution_count": null,
   "id": "4591e53c-cd74-4154-b8d1-819b2d99a149",
   "metadata": {},
   "outputs": [],
   "source": [
    "weather.head(4)"
   ]
  },
  {
   "cell_type": "code",
   "execution_count": null,
   "id": "fa9c852f-0fd0-4e94-8f0e-7015b53245ca",
   "metadata": {},
   "outputs": [],
   "source": [
    "weather.tail(4)"
   ]
  },
  {
   "cell_type": "code",
   "execution_count": null,
   "id": "0ab03cd7-c887-4744-92f1-6ba5a5301daf",
   "metadata": {},
   "outputs": [],
   "source": [
    "weather.index"
   ]
  },
  {
   "cell_type": "code",
   "execution_count": null,
   "id": "8c0ef9fc-966c-42df-ba0c-93dca2ead46c",
   "metadata": {},
   "outputs": [],
   "source": [
    "weather.columns"
   ]
  },
  {
   "cell_type": "code",
   "execution_count": null,
   "id": "4b644af5-046e-4c4f-864f-da8bba2962b1",
   "metadata": {},
   "outputs": [],
   "source": [
    "weather.shape"
   ]
  },
  {
   "cell_type": "code",
   "execution_count": null,
   "id": "06dccbb7-61e3-4164-8abd-317052706823",
   "metadata": {},
   "outputs": [],
   "source": [
    "weather.dtypes"
   ]
  },
  {
   "cell_type": "code",
   "execution_count": null,
   "id": "a2bb1a4e-d222-40bb-84a4-e9380cf058aa",
   "metadata": {},
   "outputs": [],
   "source": [
    "weather.columns.values"
   ]
  },
  {
   "cell_type": "code",
   "execution_count": null,
   "id": "b39f3173-9fcd-4b12-864c-486264ed2997",
   "metadata": {},
   "outputs": [],
   "source": [
    "weather.describe(include=\"all\")"
   ]
  },
  {
   "cell_type": "code",
   "execution_count": null,
   "id": "73944bfe-a2d5-4ed5-8e00-69731129ffcc",
   "metadata": {},
   "outputs": [],
   "source": [
    "weather[\"Location\"]"
   ]
  },
  {
   "cell_type": "code",
   "execution_count": null,
   "id": "052ea56c-f26d-4157-808c-62b971f3b1aa",
   "metadata": {},
   "outputs": [],
   "source": [
    "weather.sort_index(axis=1,ascending=False)"
   ]
  },
  {
   "cell_type": "code",
   "execution_count": null,
   "id": "96e9689a-28c7-4966-919c-8d21cc4dba53",
   "metadata": {},
   "outputs": [],
   "source": [
    "weather.sort_values(by=\"Location\")"
   ]
  },
  {
   "cell_type": "code",
   "execution_count": null,
   "id": "d7471df3-52f0-40d1-b32f-00f32b3f8f33",
   "metadata": {},
   "outputs": [],
   "source": [
    "weather.iloc[5]"
   ]
  },
  {
   "cell_type": "code",
   "execution_count": null,
   "id": "c7d20282-937e-4832-8bcd-e1b0ee1da993",
   "metadata": {},
   "outputs": [],
   "source": [
    "weather[0:3]"
   ]
  },
  {
   "cell_type": "code",
   "execution_count": null,
   "id": "b5c57cf5-b475-421b-a404-5ac3b761f571",
   "metadata": {},
   "outputs": [],
   "source": [
    "weather.loc[:,[\"Date\",\"Location\"]]"
   ]
  },
  {
   "cell_type": "code",
   "execution_count": null,
   "id": "48aebe75-2c05-402b-bb16-d269af4e804d",
   "metadata": {},
   "outputs": [],
   "source": [
    "weather.iloc[:6, :]"
   ]
  },
  {
   "cell_type": "code",
   "execution_count": null,
   "id": "630f0124-688e-4a4a-8a99-653ef986e447",
   "metadata": {},
   "outputs": [],
   "source": [
    "weather.iloc[:, :5]"
   ]
  },
  {
   "cell_type": "code",
   "execution_count": null,
   "id": "1ddfcfbc-a683-4e28-aabf-c4ae401a7741",
   "metadata": {},
   "outputs": [],
   "source": [
    "weather.iloc[:4, :5]"
   ]
  },
  {
   "cell_type": "code",
   "execution_count": null,
   "id": "9fda55a7-75da-4ad7-8867-7556ea6476b8",
   "metadata": {},
   "outputs": [],
   "source": [
    "weather.isnull()"
   ]
  },
  {
   "cell_type": "code",
   "execution_count": null,
   "id": "3f2afcd7-f9a0-4887-b52d-3dd996210f82",
   "metadata": {},
   "outputs": [],
   "source": [
    "weather.isnull().any()"
   ]
  },
  {
   "cell_type": "code",
   "execution_count": null,
   "id": "e58a586c-42e9-4501-944e-1443a5629f55",
   "metadata": {},
   "outputs": [],
   "source": [
    "weather.isnull().sum(axis=1)"
   ]
  },
  {
   "cell_type": "code",
   "execution_count": null,
   "id": "6222c765-d155-4f49-8a70-48b4e50b934a",
   "metadata": {},
   "outputs": [],
   "source": [
    "weather.isnull().sum()"
   ]
  }
 ],
 "metadata": {
  "kernelspec": {
   "display_name": "Python 3 (ipykernel)",
   "language": "python",
   "name": "python3"
  },
  "language_info": {
   "codemirror_mode": {
    "name": "ipython",
    "version": 3
   },
   "file_extension": ".py",
   "mimetype": "text/x-python",
   "name": "python",
   "nbconvert_exporter": "python",
   "pygments_lexer": "ipython3",
   "version": "3.13.1"
  }
 },
 "nbformat": 4,
 "nbformat_minor": 5
}
